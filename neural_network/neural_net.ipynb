version https://git-lfs.github.com/spec/v1
oid sha256:79073a7416af71d6dd289ff20bcd6232ce212eea25dec04c5000e956029f98fc
size 44351
